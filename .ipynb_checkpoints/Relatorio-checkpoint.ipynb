{
 "cells": [
  {
   "cell_type": "markdown",
   "metadata": {
    "id": "LU8pUiWDE5oQ"
   },
   "source": [
    "# ICD - Projeto Final: Gamers Scientists\n",
    "\n",
    "  Arthur de Brito Bonifácio - 2019006370   \n",
    "  Augusto Maillo Queiroga de Figueiredo - 2019006450  \n",
    "  Eduardo Augusto Militão Fernandes - 2019006540\n",
    "\n",
    "# Conteúdo externo:\n",
    "\n",
    "  Link do vídeo:   \n",
    "  Link do dataset: https://www.kaggle.com/nikdavis/steam-store-games?select=steam.csv"
   ]
  },
  {
   "cell_type": "markdown",
   "metadata": {
    "id": "Aa49ciTfD7eb"
   },
   "source": [
    "Esse relatório foi criado utilizando o Notebook Relatorio.ipynb\n",
    "Além disso, todos os notebooks utilizados para gerar os resultados aqui presentes podem ser encontrados na mesma pasta.\n",
    "\n",
    "## Introdução\n",
    "\n",
    "Neste trabalho vamos analisar o banco de dados da plataforma Steam de Maio de 2019 sobre os jogos disponíveis nela.\n",
    "\n",
    "## Motivação\n",
    "\n",
    "A motivação pelo trabalho veio de um interesse por jogos por parte de todos os membros do grupo. Uma oportunidade de entendermos melhor qual o interesse do público em relação a todos os tipos de jogos em uma das maiores plataformas do mundo. Ver qual a situação de jogos clássicos nos dias de hoje e como os novidades foram recebidas pelo público."
   ]
  },
  {
   "cell_type": "markdown",
   "metadata": {
    "id": "s5u78TyKNAOf"
   },
   "source": [
    "## Perguntas\n",
    "\n",
    "1) Quais os gêneros dos jogos mais vendidos na plataforma?  \n",
    "2) Quais gêneros estão relacionados com mais tempo de jogo?  \n",
    "3) Como o preço dos jogos se relaciona com o tempo de jogo e quantidade vendida?  \n",
    "4) O número de conquistas de um jogo está relacionado com o tempo médio de jogo deste?"
   ]
  },
  {
   "cell_type": "markdown",
   "metadata": {
    "id": "JzfY-4CfPO9a"
   },
   "source": [
    "## Dados Utilizados\n",
    "\n",
    "Para a realização deste projeto, foram utilizados dados que são disponibilizados pela Steam e SteamSpy APIs. Este conjunto de dados fornece informações sobre vários aspectos dos jogos na loja, sendo estes:\n",
    "* Nome\n",
    "* Data de lançamento\n",
    "* Inglês\n",
    "* Desenvolvedor\n",
    "* Editor\n",
    "* Plataformas\n",
    "* Idade exigida\n",
    "* Categorias\n",
    "* Gêneros\n",
    "* Tags\n",
    "* Conquistas\n",
    "* Avaliações positivas\n",
    "* Avaliações negativas\n",
    "* Tempo de jogo médio\n",
    "* Mediana do tempo de jogo\n",
    "* Quantidade de jogadores\n",
    "* Preço"
   ]
  },
  {
   "cell_type": "markdown",
   "metadata": {
    "id": "GRO0577SUisk"
   },
   "source": [
    "## Tratamento nos dados\n",
    "\n",
    "As colunas median_playtime e average_playtime foram tiveram os valores em suas linha divididos por 60 para termos a informção em horas."
   ]
  },
  {
   "cell_type": "markdown",
   "metadata": {},
   "source": [
    "# Explorando o dataset\n",
    "\n",
    "Nesse tópico temos gráficos explorando os dados disponíveis no dataset com o intuito de observar diferentes relações entre as informações dos jogos da plataforma Steam.\n",
    "\n",
    "OBS: Para resultados mais coerentes com o que já conhecemos do âmbito de jogos, removemos os outliers utilizando de 1% a 99%. Segue um trecho de código sobre a análise abaixo com um exemplo de remoção de outliers:\n",
    "\n",
    ">i_max = np.percentile(subdf.average_playtime.values, 99)  \n",
    "i_min = np.percentile(subdf.average_playtime.values, 1)\n",
    "\n",
    "Nos gráficos do tipo _scatter_ optamos por utilizar um sistema de cores que indica a densidade de pontos em cada região do gráfico. Desta forma, regiões de cor mais clara apresentam maior densidade de pontos enquanto que regiões de cores escuras apresentam menor densidade."
   ]
  },
  {
   "cell_type": "markdown",
   "metadata": {},
   "source": [
    "## Correlação entre o # de avaliações positivas e o tempo de jogo médio.\n",
    "\n",
    "![Prints/img11](Prints/img11.png)\n",
    "\n",
    "**Correlação: 0.34017652531251075**\n",
    "\n",
    "__A maioria dos jogos não tem um número alto de avaliações positivas, assim como um tempo médio de jogo alto. Também fica claro que não há grande correlação entre os dois valores.__"
   ]
  },
  {
   "cell_type": "markdown",
   "metadata": {},
   "source": [
    "## Correlação entre a razão do # de avaliações positivas sobre o # de avaliações e o tempo de jogo médio.\n",
    "\n",
    "![Prints/img12](Prints/img12.png)\n",
    "\n",
    "**Correlação: 0.13052745043001399**\n",
    "\n",
    "__Com este gráfico é possível perceber que praticamente não há jogos com baixa proporção de avaliações positivas e com tempo de jogo médio alto. Assim, fica claro a tendência de que os jogos com maiores tempo de jogo médio são aqueles com os melhores *ratings*__"
   ]
  },
  {
   "cell_type": "markdown",
   "metadata": {},
   "source": [
    "## Correlação entre a razão entre o # de avaliações positivas sobre o # de avaliações e o número de jogadores.\n",
    "\n",
    "![Prints/img13](Prints/img13.png)\n",
    "\n",
    "**Correlação: 0.10969056987508574  \n",
    "Correlação de Spearman: 0.0878620723007601**\n",
    "\n",
    "![Prints/img14](Prints/img14.png)\n",
    "\n",
    "**Correlação (media do intervalo de rating e mediana do número de jogadores): 0.7772670967005149**\n",
    "\n",
    "__Coerente com os dados da tabela acima, vemos que praticamente não há jogos com baixa proporção de avaliações positivas e muitos compradores.__"
   ]
  },
  {
   "cell_type": "markdown",
   "metadata": {},
   "source": [
    "### Visualizando os dados de forma significativa\n",
    "\n",
    "![Prints/img17](Prints/img22.png)\n",
    "\n",
    "**90% at x=14  \n",
    "95% at x=18  \n",
    "98% at x=26**\n",
    "\n",
    "__Jogos com preços mais baixos são os que mais constribuem para a soma do tempo médio da plataforma, ou seja, são os jogos onde a maior parte do tempo é investida. Jogos caros pouco contribuem para esse valor total.__\n",
    "\n",
    "![Prints/img18](Prints/img23.png)\n",
    "\n",
    "**90% at x=23  \n",
    "95% at x=29  \n",
    "98% at x=39**\n",
    "\n",
    "__Coerente com a última análise, vemos que os jogos mais baratos são os que mais contribuem para a soma de vendas da plataforma__"
   ]
  },
  {
   "cell_type": "markdown",
   "metadata": {},
   "source": [
    "# Questões - Análise Exploratória "
   ]
  },
  {
   "cell_type": "markdown",
   "metadata": {},
   "source": [
    "## 1) Quais os gêneros dos jogos mais vendidos na plataforma?\n",
    "\n",
    "![Prints/img3](Prints/img3.png)\n",
    "\n",
    "__Jogos de ação constituem a maior parcela dentre as vendas da plataforma.__"
   ]
  },
  {
   "cell_type": "markdown",
   "metadata": {},
   "source": [
    "## 2) Quais gêneros estão relacionados com mais tempo de jogo?\n",
    "\n",
    "![Prints/img4](Prints/img4.png)\n",
    "\n",
    "![Prints/img6](Prints/img6.png)\n",
    "\n",
    "__Como o gráfico mostra acima, a maioria dos usuários da plataforma desprendem mais tempo nos jogos multiplayer massivo. A diferença entre este gênero e os jogos gratuitos (*Free to Play*) é expressiva.__"
   ]
  },
  {
   "cell_type": "markdown",
   "metadata": {},
   "source": [
    "## 3) Como o preço dos jogos se relaciona com o tempo de jogo e quantidade vendida?\n",
    "\n",
    "### Correlação entre o preço e o tempo de jogo médio.\n",
    "\n",
    "![Prints/img4](Prints/img7.png)\n",
    "\n",
    "**Correlação: 0.3467230535414481**\n",
    "\n",
    "### Correlação entre o preço e o número de vendas.\n",
    "\n",
    "![Prints/img6](Prints/img8.png)\n",
    "\n",
    "**Correlação de Pearson: 0.11676896129313208  \n",
    "Correlação de Spearman: 0.0676948558411098**\n",
    "\n",
    "__Jogos com preços maiores praticamente não têm tempo médio de jogo alto. Coerente com a análise anterior, parte dos jogos que apresentam tempo médio de jogo alto são *Free to Play*__"
   ]
  },
  {
   "cell_type": "markdown",
   "metadata": {},
   "source": [
    "## 4) O número de conquistas de um jogo está relacionado com o tempo médio de jogo deste?\n",
    "\n",
    "![Prints/img10](Prints/img10.png)\n",
    "\n",
    "**Correlação: 0.1249678222019985**\n",
    "\n",
    "__Não, possivelmente o resultado apresentado acima tem influência da grande maioria de jogos que não possuem conquistas. Isso é traduzido na baixa correlação obtida.__"
   ]
  },
  {
   "cell_type": "markdown",
   "metadata": {},
   "source": [
    "# Regressão"
   ]
  },
  {
   "cell_type": "markdown",
   "metadata": {},
   "source": [
    "Primeiramente, dividimos os dataset entre treino (80%) e teste (20%), resultando em 21646 jogos para treino e 5429 jogos para teste.\n",
    "\n",
    "Em seguida, removemos os outliers de cada uma das partições, levando em consideração os valores de \"average playtime\" de cada jogo, da mesma maneira como descrita no começo do relatório.\n",
    "\n",
    "____"
   ]
  },
  {
   "cell_type": "markdown",
   "metadata": {},
   "source": [
    "## Relação entre razão do # de avaliações positivas sobre o # de avaliações e tempo de jogo médio"
   ]
  },
  {
   "cell_type": "markdown",
   "metadata": {},
   "source": [
    "Foi realizada uma regressão para inferir o tempo médio de jogo de um jogo (average playtime) a partir do \"rating\" do mesmo (# avaliações positivas / # total de avaliações).\n",
    "\n",
    "O modelo de regressão escolhido foi o de minimização do erro quadrado médio.\n",
    "\n",
    "Também foi realizado Bootstrap para obter o intervalo de confiança da regressão, como pode ser observado nos gráficos abaixo:"
   ]
  },
  {
   "cell_type": "markdown",
   "metadata": {},
   "source": [
    "### Regressão nos dados de treino\n",
    "\n",
    "![Prints/img29](Prints/img29.png)\n",
    "\n",
    "____"
   ]
  },
  {
   "cell_type": "markdown",
   "metadata": {},
   "source": [
    "### Regressão nos dados de teste\n",
    "\n",
    "![Prints/img30](Prints/img30.png)\n",
    "\n",
    "__Média do R2 calculada pelo Bootstrap: 0.02<br>\n",
    "Menor e maior valor de R2 calculado pelo Bootstrap: (0.01, 0.02)<br><br>\n",
    "Média do MSE nos casos de teste calculada pelo Bootstrap: 37.70<br>\n",
    "Menor e maior valor de MSE nos casos de teste calculado pelo Bootstrap: (37.66, 37.79)__\n",
    "\n",
    "____"
   ]
  },
  {
   "cell_type": "markdown",
   "metadata": {},
   "source": [
    "Como o resultado da regressão não foi satisfatório, uma vez que não foi possível capturar com alta fidelidade a tendência de jogos com alto Tempo Médio de Jogo de terem boas avaliações, decidimos tentar uma nova abordagem: discretizar os valores de rating em intervalos de tamanho de 0,05 e, para todos os jogos dentro de tal intervalo, fazer a média de seus Tempo Médio de Jogo.\n",
    "\n",
    "Os novos resultados podem ser vistos nos gráficos a seguir:"
   ]
  },
  {
   "cell_type": "markdown",
   "metadata": {},
   "source": [
    "### Regressão discretizada nos dados de treino\n",
    "\n",
    "![Prints/img29](Prints/img37.png)\n",
    "\n",
    "____"
   ]
  },
  {
   "cell_type": "markdown",
   "metadata": {},
   "source": [
    "### Regressão discretizada nos dados de teste\n",
    "\n",
    "![Prints/img38](Prints/img38.png)\n",
    "\n",
    "__Média do R2 calculada pelo Bootstrap: 0.88<br>\n",
    "Menor e maior valor de R2 calculado pelo Bootstrap: (0.75, 0.97)<br><br>\n",
    "Média do MSE nos casos de teste calculada pelo Bootstrap: 0.22<br>\n",
    "Menor e maior valor de MSE nos casos de teste calculado pelo Bootstrap: (0.20, 0.31)__\n"
   ]
  },
  {
   "cell_type": "markdown",
   "metadata": {},
   "source": [
    "Como pode ser observado pelos valores de MSE, o modelo discretizado funcionou muito melhor do que o primeiro, e foi capaz que capturar a tendência descrita de maneira muito mais precisa e visível.\n",
    "____"
   ]
  },
  {
   "cell_type": "markdown",
   "metadata": {},
   "source": [
    "## Relação entre razão de # de avaliações positivas sobre o # de avaliações com Tempo de Jogo Médio para Preço"
   ]
  },
  {
   "cell_type": "markdown",
   "metadata": {},
   "source": [
    "Em seguida, foi realizada uma regressão múltipla, a fim de inferir o preço de um jogo a partir de seu Tempo de Jogo Médio e rating.\n",
    "\n",
    "O primeiro passo consistiu em fazer uso do módulo StandardScaler do pacote \"scikit-learn\" para realizar a normalização dos dados. Em seguida, foi utilizado Bootstrap com o módulo LinearRegression, do mesmo pacote, para realizar a regressão por mínimos quadrados com intervalo de confiança. Os resultados foram os seguintes:\n",
    "\n",
    "__Média do R2 calculada pelo Bootstrap: 0.15<br>\n",
    "Menor e maior valor de R2 calculado pelo Bootstrap: (0.12, 0.18)<br><br>\n",
    "Média do MSE nos casos de teste calculada pelo Bootstrap: 52.71<br>\n",
    "Menor e maior valor de MSE nos casos de teste calculado pelo Bootstrap: (52.23, 53.52)__\n",
    "\n",
    "Como pode ser observado, a regressão não ajustou bem para os dados, o que demonstra que não há uma grande relação entre o rating de um jogo e seu tempo médio de jogo com o seu preço na loja.\n",
    "____"
   ]
  },
  {
   "cell_type": "markdown",
   "metadata": {},
   "source": [
    "# Teste de Hipótese\n",
    "\n",
    "Nesta seção levantamos algumas hipóteses acerca da base de dados.\n",
    "A principal hipótese foi: Os jogos RPG tem maior tempo de jogo médio que os jogos de Ação? \n",
    "\n",
    "Para responder essa pergunta vamos utilizar testes de permutação. Ou seja, agora queremos responder a seguinte pergunta: a diferença observada nos dados pode ser explicada pelo acaso?\n",
    "\n",
    "Para responder essa pergunta primeiramente calculamos a diferença do tempo de jogo médio entre os jogos RPG e de Ação. Em seguida, embaralhamos o rótulo de cada eleemento e computamos a diferença novamente, repetindo esse processo 10000 vezes. O resultado desse processo gerada uma normal. Para tal, filtramos os outliers, removendo os 2.5% valores menores e os 2.5% valores maiores.\n",
    "\n",
    "Na figura abaixo podemos ver a diferença real nos dados e as diferenças observadas nos testes.\n",
    "\n",
    "![Prints/img45.png](Prints/img45.png)\n",
    "\n",
    "Observando a imagem acima podemos ver que a diferença real observado nos dados difere muito dos resultados reais, o que indica fortemente que realmente os jogos de RPG são mais jogados que os jogos de ação.\n",
    "\n",
    "Realizamos também um teste para checar se os jogos mais bem avaliados são mais jogados que os jogos mais mal avaliados. Realizando o mesmo procedimento descrito acima, essa hipótese também foi confirmada:\n",
    "\n",
    "![Prints/img46.png](Prints/img46.png)\n",
    "____"
   ]
  },
  {
   "cell_type": "markdown",
   "metadata": {},
   "source": [
    "# Intervalo de Confiança\n",
    "\n",
    "Dado que a base escolhida é quantitativamente representativa, gostaríamos de saber como uma parcela dos dados generaliza para o todo. Para tal utilizamos a técnica de boostrap a fim de computar intervalos de confiança. O atributo escolhido foi o Rating, definido como as avaliações positivas sobre o total de avaliações.\n",
    "\n",
    "Para o cálculo do intervalo de confiança selecionamos 30% do conjunto de dados total e aplicamos Bootstrap com 5000 iterações, obtendo um intervalo de 0.70-0.72 para o rating. Feito isso, selecionamos 1000 amostras aleatórias dos dados restantes com o objetivo de checar se estes estariam dentro do intervalo de confiança. Os resultados mostraram que 99% dos dados caem dentro deste intervalo.\n",
    "\n",
    "![Prints/img54](Prints/img54.png)\n",
    "\n",
    "O mesmo procedimento foi realizado para o valore de Average Playtime, obtendo um intervalo de confiança de 3.38-3.68. Cerca de 96% das amostras selecionadas também caíram dentro de tal intervalo.\n",
    "\n",
    "\n",
    "![Prints/img53](Prints/img53.png)\n",
    "____"
   ]
  },
  {
   "cell_type": "markdown",
   "metadata": {},
   "source": [
    "# Classificação\n",
    "\n",
    "Como a base de dados representa uma parcela representativa dos jogos digitais comercializados seria interessante utilizar os dados para construir um classificador. Analisando os dados presentes na base, concluímos que o atributo mais interessante a ser classificado seria o gênero de um jogo. Isso porque não é um atributo trivialmente derivável e é desafiador inferí-lo a partir dos outros atributos.\n",
    "Dessa forma, o objetivo aqui é construir um classificador que utiliza os atributos de média e mediana do tempo de jogo, compradores, preço e o atributo de classificação definido anteriormente. Para tal foi necessário tratar o número de compradores, que é discretizado e aqui utilizamos a média do intervalo.\n",
    "\n",
    "Inicialmente os dados são divididos em treino (80%) e teste (20%). Os dados de treino são normalizados e a média e desvio destes são utilizadas para normalizados os dados de teste.\n",
    "\n",
    "Primeiramente utilizamos Logistic Regression para classificar os dados, definindo a penalização como norma L2 (a norma L1 foi testada e produziu resultados piores). O resultado desse modelo foi **28%** de acurácia nos dados, priorizando claramente as classes que possuem mais amostras.\n",
    "\n",
    "![Prints/img47.png](Prints/img47.png)\n",
    "\n",
    "Utilizamos Bootstrap com 5000 iterações para calcular um intervalo de confiança para esse modelo. O intervalo foi de **24.6%**-**32.4%**.\n",
    "\n",
    "Em seguida testamos o modelo de K Neighbors para classificação. Utilizamos a estratégia de K-Fold para estimar o hiper-parâmetro do número de vizinhos. Baseado na validação cruzada treinamos o modelo e testamos obtendo **38%** na partição de teste. \n",
    "\n",
    "![Prints/img51.png](Prints/img51.png)\n",
    "\n",
    "\n",
    "Novamente, calculamos o intervalo de confiança com 5000 iterações, obtendo um intervalo de **34.2%**-**42.4%**.\n"
   ]
  }
 ],
 "metadata": {
  "colab": {
   "name": "Relatorio.ipynb",
   "provenance": []
  },
  "kernelspec": {
   "display_name": "Python 3",
   "language": "python",
   "name": "python3"
  },
  "language_info": {
   "codemirror_mode": {
    "name": "ipython",
    "version": 3
   },
   "file_extension": ".py",
   "mimetype": "text/x-python",
   "name": "python",
   "nbconvert_exporter": "python",
   "pygments_lexer": "ipython3",
   "version": "3.7.4"
  }
 },
 "nbformat": 4,
 "nbformat_minor": 1
}
