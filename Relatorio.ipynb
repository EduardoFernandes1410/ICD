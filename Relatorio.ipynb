{
 "cells": [
  {
   "cell_type": "markdown",
   "metadata": {
    "id": "LU8pUiWDE5oQ"
   },
   "source": [
    "# ICD - Projeto Final: Gamers Scientists\n",
    "\n",
    "  Arthur de Brito Bonifácio  \n",
    "  Augusto Maillo Queiroga de Figueiredo  \n",
    "  Eduardo Augusto Militão Fernandes\n",
    "\n",
    "# Conteúdo externo:\n",
    "\n",
    "  Link do vídeo: "
   ]
  },
  {
   "cell_type": "markdown",
   "metadata": {
    "id": "Aa49ciTfD7eb"
   },
   "source": [
    "Esse relatório foi criado utilizando o Notebook Relatorio.ipynb\n",
    "Além disso, todos os notebooks utilizados para gerar os resultados aqui presentes podem ser encontrados na mesma pasta.\n",
    "\n",
    "## Introdução\n",
    "\n",
    "Neste trabalho vamos analisar o banco de dados da plataforma Steam de Maio de 2019 sobre os jogos disponíveis nela.\n",
    "\n",
    "## Motivação\n",
    "\n",
    "A motivação pelo trabalho veio de um interesse por jogos por parte de todos os membros do grupo. Uma oportunidade de entendermos melhor qual o interesse do público em relação a todos os tipos de jogos em uma das maiores plataformas do mundo. Ver qual a situação de jogos clássicos nos dias de hoje e como os novidades foram recebidas pelo público."
   ]
  },
  {
   "cell_type": "markdown",
   "metadata": {
    "id": "s5u78TyKNAOf"
   },
   "source": [
    "## Perguntas\n",
    "\n",
    "1) Quais os gêneros dos jogos mais vendidos na plataforma?  \n",
    "2) Quais gêneros estão relacionados com mais tempo de jogo?  \n",
    "3) Como o preço dos jogos se relaciona com o tempo de jogo e quantidade vendida?  \n",
    "4) O número de conquistas de um jogo está relacionado com o tempo médio de jogo deste?"
   ]
  },
  {
   "cell_type": "markdown",
   "metadata": {
    "id": "JzfY-4CfPO9a"
   },
   "source": [
    "## Dados Utilizados\n",
    "\n",
    "Para a realização deste projeto, foram utilizados dados que são disponibilizados pela Steam e SteamSpy APIs. Este conjunto de dados fornece informações sobre vários aspectos dos jogos na loja, sendo estes:\n",
    "* Nome\n",
    "* Data de lançamento\n",
    "* Inglês\n",
    "* Desenvolvedor\n",
    "* Editor\n",
    "* Plataformas\n",
    "* Idade exigida\n",
    "* Categorias\n",
    "* Gêneros\n",
    "* Tags\n",
    "* Conquistas\n",
    "* Avaliações positivas\n",
    "* Avaliações negativas\n",
    "* Tempo de jogo médio\n",
    "* Mediana do tempo de jogo\n",
    "* Quantidade de jogadores\n",
    "* Preço"
   ]
  },
  {
   "cell_type": "markdown",
   "metadata": {
    "id": "GRO0577SUisk"
   },
   "source": [
    "## Tratamento nos dados\n",
    "\n",
    "As colunas median_playtime e average_playtime foram tiveram os valores em suas linha divididos por 60 para termos a informção em horas."
   ]
  },
  {
   "cell_type": "markdown",
   "metadata": {},
   "source": [
    "# Explorando o dataset\n",
    "\n",
    "Nesse tópico temos gráficos explorando os dados disponíveis no dataset com o intuito de observar diferentes relações entre as informações dos jogos da plataforma Steam.\n",
    "\n",
    "OBS: Para resultados mais coerentes com o que já conhecemos do âmbito de jogos, removemos os outliers utilizando de 1% a 99%. Segue um trecho de código sobre a análise abaixo com um exemplo de remoção de outliers:\n",
    "\n",
    ">i_max = np.percentile(subdf.average_playtime.values, 99)  \n",
    "i_min = np.percentile(subdf.average_playtime.values, 1)\n",
    "\n",
    "Nos gráficos do tipo _scatter_ optamos por utilizar um sistema de cores que indica a densidade de pontos em cada região do gráfico. Desta forma, regiões de cor mais clara apresentam maior densidade de pontos enquanto que regiões de cores escuras apresentam menor densidade."
   ]
  },
  {
   "cell_type": "markdown",
   "metadata": {},
   "source": [
    "## Correlação entre o # de avaliações positivas e o tempo de jogo médio.\n",
    "\n",
    "![Prints/img11](Prints/img11.png)\n",
    "\n",
    "**Correlação: 0.34017652531251075**\n",
    "\n",
    "__A maioria dos jogos não tem um número alto de avaliações positivas, assim como um tempo médio de jogo alto. Também fica claro que não há grande correlação entre os dois valores.__"
   ]
  },
  {
   "cell_type": "markdown",
   "metadata": {},
   "source": [
    "## Correlação entre a razão do # de avaliações positivas sobre o # de avaliações e o tempo de jogo médio.\n",
    "\n",
    "![Prints/img12](Prints/img12.png)\n",
    "\n",
    "**Correlação: 0.13052745043001399**\n",
    "\n",
    "__Com este gráfico é possível perceber que praticamente não há jogos com baixa proporção de avaliações positivas e com tempo de jogo médio alto. Assim, fica claro a tendência de que os jogos com maiores tempo de jogo médio são aqueles com os melhores *ratings*__"
   ]
  },
  {
   "cell_type": "markdown",
   "metadata": {},
   "source": [
    "## Correlação entre a razão entre o # de avaliações positivas sobre o # de avaliações e o número de jogadores.\n",
    "\n",
    "![Prints/img13](Prints/img13.png)\n",
    "\n",
    "**Correlação: 0.10969056987508574  \n",
    "Correlação de Spearman: 0.0878620723007601**\n",
    "\n",
    "![Prints/img14](Prints/img14.png)\n",
    "\n",
    "**Correlação (media do intervalo de rating e mediana do número de jogadores): 0.7772670967005149**\n",
    "\n",
    "__Coerente com os dados da tabela acima, vemos que praticamente não há jogos com baixa proporção de avaliações positivas e muitos compradores.__"
   ]
  },
  {
   "cell_type": "markdown",
   "metadata": {},
   "source": [
    "### Visualizando os dados de forma significativa\n",
    "\n",
    "![Prints/img17](Prints/img22.png)\n",
    "\n",
    "**90% at x=14  \n",
    "95% at x=18  \n",
    "98% at x=26**\n",
    "\n",
    "__Jogos com preços mais baixos são os que mais constribuem para a soma do tempo médio da plataforma, ou seja, são os jogos onde a maior parte do tempo é investida. Jogos caros pouco contribuem para esse valor total.__\n",
    "\n",
    "![Prints/img18](Prints/img23.png)\n",
    "\n",
    "**90% at x=23  \n",
    "95% at x=29  \n",
    "98% at x=39**\n",
    "\n",
    "__Coerente com a última análise, vemos que os jogos mais baratos são os que mais contribuem para a soma de vendas da plataforma.__"
   ]
  },
  {
   "source": [
    "# Questões - Análise Exploratória "
   ],
   "cell_type": "markdown",
   "metadata": {}
  },
  {
   "source": [
    "## 1) Quais os gêneros dos jogos mais vendidos na plataforma?\n",
    "\n",
    "![Prints/img3](Prints/img3.png)\n",
    "\n",
    "__Jogos de ação constituem a maior parcela dentre as vendas da plataforma.__"
   ],
   "cell_type": "markdown",
   "metadata": {}
  },
  {
   "source": [
    "## 2) Quais gêneros estão relacionados com mais tempo de jogo?\n",
    "\n",
    "![Prints/img4](Prints/img4.png)\n",
    "\n",
    "![Prints/img6](Prints/img6.png)\n",
    "\n",
    "__Como o gráfico mostra acima, a maioria dos usuários da plataforma desprendem mais tempo nos jogos multiplayer massivo. A diferença entre este gênero e os jogos gratuitos (*Free to Play*) é expressiva.__"
   ],
   "cell_type": "markdown",
   "metadata": {}
  },
  {
   "source": [
    "## 3) Como o preço dos jogos se relaciona com o tempo de jogo e quantidade vendida?\n",
    "\n",
    "### Correlação entre o preço e o tempo de jogo médio.\n",
    "\n",
    "![Prints/img4](Prints/img7.png)\n",
    "\n",
    "**Correlação: 0.3467230535414481**\n",
    "\n",
    "### Correlação entre o preço e o número de vendas.\n",
    "\n",
    "![Prints/img6](Prints/img8.png)\n",
    "\n",
    "**Correlação de Pearson: 0.11676896129313208  \n",
    "Correlação de Spearman: 0.0676948558411098**\n",
    "\n",
    "__Jogos com preços maiores praticamente não têm tempo médio de jogo alto. Coerente com a análise anterior, parte dos jogos que apresentam tempo médio de jogo alto são *Free to Play*__"
   ],
   "cell_type": "markdown",
   "metadata": {}
  },
  {
   "cell_type": "markdown",
   "metadata": {},
   "source": [
    "## 4) O número de conquistas de um jogo está relacionado com o tempo médio de jogo deste?\n",
    "\n",
    "![Prints/img10](Prints/img10.png)\n",
    "\n",
    "**Correlação: 0.1249678222019985**\n",
    "\n",
    "__Não, possivelmente o resultado apresentado acima tem influência da grande maioria de jogos que não possuem conquistas. Isso é traduzido na baixa correlação obtida.__"
   ]
  },
  {
   "cell_type": "markdown",
   "metadata": {},
   "source": [
    "# Regressão"
   ]
  },
  {
   "cell_type": "markdown",
   "metadata": {},
   "source": [
    "## Correlação entre o # de avaliações positivas e o tempo de jogo médio.\n",
    "\n",
    "![Prints/Corr-PosRat-AvgTim](Prints/Corr-PosRat-AvgTim.png)\n",
    "\n",
    "____"
   ]
  },
  {
   "cell_type": "markdown",
   "metadata": {},
   "source": [
    "## Correlação entre o # de avaliações positivas e o tempo de jogo médio.\n",
    "\n",
    "![Prints/Corr-PosRat-AvgTim](Prints/Corr-PosRat-AvgTim.png)\n",
    "\n",
    "____"
   ]
  },
  {
   "cell_type": "markdown",
   "metadata": {},
   "source": [
    "## Correlação entre o # de avaliações positivas e o tempo de jogo médio.\n",
    "\n",
    "![Prints/Corr-PosRat-AvgTim](Prints/Corr-PosRat-AvgTim.png)\n",
    "\n",
    "____"
   ]
  },
  {
   "cell_type": "markdown",
   "metadata": {},
   "source": [
    "## Correlação entre o # de avaliações positivas e o tempo de jogo médio.\n",
    "\n",
    "![Prints/Corr-PosRat-AvgTim](Prints/Corr-PosRat-AvgTim.png)\n",
    "\n",
    "____"
   ]
  },
  {
   "cell_type": "markdown",
   "metadata": {},
   "source": [
    "## Correlação entre o # de avaliações positivas e o tempo de jogo médio.\n",
    "\n",
    "![Prints/Corr-PosRat-AvgTim](Prints/Corr-PosRat-AvgTim.png)\n",
    "\n",
    "____"
   ]
  },
  {
   "cell_type": "markdown",
   "metadata": {},
   "source": [
    "## Correlação entre o # de avaliações positivas e o tempo de jogo médio.\n",
    "\n",
    "![Prints/Corr-PosRat-AvgTim](Prints/Corr-PosRat-AvgTim.png)\n",
    "\n",
    "____"
   ]
  },
  {
   "cell_type": "markdown",
   "metadata": {},
   "source": [
    "## Correlação entre o # de avaliações positivas e o tempo de jogo médio.\n",
    "\n",
    "![Prints/Corr-PosRat-AvgTim](Prints/Corr-PosRat-AvgTim.png)\n",
    "\n",
    "____"
   ]
  },
  {
   "cell_type": "markdown",
   "metadata": {},
   "source": [
    "## Correlação entre o # de avaliações positivas e o tempo de jogo médio.\n",
    "\n",
    "![Prints/Corr-PosRat-AvgTim](Prints/Corr-PosRat-AvgTim.png)\n",
    "\n",
    "____"
   ]
  },
  {
   "cell_type": "markdown",
   "metadata": {},
   "source": [
    "## Correlação entre o # de avaliações positivas e o tempo de jogo médio.\n",
    "\n",
    "![Prints/Corr-PosRat-AvgTim](Prints/Corr-PosRat-AvgTim.png)\n",
    "\n",
    "____"
   ]
  },
  {
   "cell_type": "markdown",
   "metadata": {},
   "source": [
    "## Correlação entre o # de avaliações positivas e o tempo de jogo médio.\n",
    "\n",
    "![Prints/Corr-PosRat-AvgTim](Prints/Corr-PosRat-AvgTim.png)\n",
    "\n",
    "____"
   ]
  },
  {
   "cell_type": "markdown",
   "metadata": {},
   "source": [
    "## Correlação entre o # de avaliações positivas e o tempo de jogo médio.\n",
    "\n",
    "![Prints/Corr-PosRat-AvgTim](Prints/Corr-PosRat-AvgTim.png)\n",
    "\n",
    "____"
   ]
  },
  {
   "cell_type": "markdown",
   "metadata": {},
   "source": [
    "## Correlação entre o # de avaliações positivas e o tempo de jogo médio.\n",
    "\n",
    "![Prints/Corr-PosRat-AvgTim](Prints/Corr-PosRat-AvgTim.png)\n",
    "\n",
    "____"
   ]
  },
  {
   "cell_type": "markdown",
   "metadata": {},
   "source": [
    "## Correlação entre o # de avaliações positivas e o tempo de jogo médio.\n",
    "\n",
    "![Prints/Corr-PosRat-AvgTim](Prints/Corr-PosRat-AvgTim.png)\n",
    "\n",
    "____"
   ]
  },
  {
   "cell_type": "markdown",
   "metadata": {},
   "source": [
    "## Correlação entre o # de avaliações positivas e o tempo de jogo médio.\n",
    "\n",
    "![Prints/Corr-PosRat-AvgTim](Prints/Corr-PosRat-AvgTim.png)\n",
    "\n",
    "____"
   ]
  },
  {
   "cell_type": "markdown",
   "metadata": {},
   "source": [
    "## Correlação entre o # de avaliações positivas e o tempo de jogo médio.\n",
    "\n",
    "![Prints/Corr-PosRat-AvgTim](Prints/Corr-PosRat-AvgTim.png)\n",
    "\n",
    "____"
   ]
  },
  {
   "cell_type": "markdown",
   "metadata": {},
   "source": [
    "## Correlação entre o # de avaliações positivas e o tempo de jogo médio.\n",
    "\n",
    "![Prints/Corr-PosRat-AvgTim](Prints/Corr-PosRat-AvgTim.png)\n",
    "\n",
    "____"
   ]
  },
  {
   "cell_type": "markdown",
   "metadata": {},
   "source": [
    "## Correlação entre o # de avaliações positivas e o tempo de jogo médio.\n",
    "\n",
    "![Prints/Corr-PosRat-AvgTim](Prints/Corr-PosRat-AvgTim.png)\n",
    "\n",
    "____"
   ]
  },
  {
   "cell_type": "markdown",
   "metadata": {},
   "source": [
    "## Correlação entre o # de avaliações positivas e o tempo de jogo médio.\n",
    "\n",
    "![Prints/Corr-PosRat-AvgTim](Prints/Corr-PosRat-AvgTim.png)\n",
    "\n",
    "____"
   ]
  },
  {
   "cell_type": "markdown",
   "metadata": {},
   "source": [
    "## Correlação entre o # de avaliações positivas e o tempo de jogo médio.\n",
    "\n",
    "![Prints/Corr-PosRat-AvgTim](Prints/Corr-PosRat-AvgTim.png)\n",
    "\n",
    "____"
   ]
  },
  {
   "cell_type": "markdown",
   "metadata": {},
   "source": [
    "## Correlação entre o # de avaliações positivas e o tempo de jogo médio.\n",
    "\n",
    "![Prints/Corr-PosRat-AvgTim](Prints/Corr-PosRat-AvgTim.png)\n",
    "\n",
    "____"
   ]
  },
  {
   "cell_type": "markdown",
   "metadata": {},
   "source": [
    "## Correlação entre o # de avaliações positivas e o tempo de jogo médio.\n",
    "\n",
    "![Prints/Corr-PosRat-AvgTim](Prints/Corr-PosRat-AvgTim.png)\n",
    "\n",
    "____"
   ]
  },
  {
   "cell_type": "markdown",
   "metadata": {},
   "source": [
    "## Correlação entre o # de avaliações positivas e o tempo de jogo médio.\n",
    "\n",
    "![Prints/Corr-PosRat-AvgTim](Prints/Corr-PosRat-AvgTim.png)\n",
    "\n",
    "____"
   ]
  },
  {
   "cell_type": "markdown",
   "metadata": {},
   "source": [
    "## Correlação entre o # de avaliações positivas e o tempo de jogo médio.\n",
    "\n",
    "![Prints/Corr-PosRat-AvgTim](Prints/Corr-PosRat-AvgTim.png)\n",
    "\n",
    "____"
   ]
  },
  {
   "cell_type": "markdown",
   "metadata": {},
   "source": [
    "## Correlação entre o # de avaliações positivas e o tempo de jogo médio.\n",
    "\n",
    "![Prints/Corr-PosRat-AvgTim](Prints/Corr-PosRat-AvgTim.png)\n",
    "\n",
    "____"
   ]
  },
  {
   "cell_type": "markdown",
   "metadata": {},
   "source": [
    "## Correlação entre o # de avaliações positivas e o tempo de jogo médio.\n",
    "\n",
    "![Prints/Corr-PosRat-AvgTim](Prints/Corr-PosRat-AvgTim.png)\n",
    "\n",
    "____"
   ]
  },
  {
   "cell_type": "markdown",
   "metadata": {},
   "source": [
    "## Correlação entre o # de avaliações positivas e o tempo de jogo médio.\n",
    "\n",
    "![Prints/Corr-PosRat-AvgTim](Prints/Corr-PosRat-AvgTim.png)\n",
    "\n",
    "____"
   ]
  },
  {
   "cell_type": "markdown",
   "metadata": {},
   "source": [
    "## Correlação entre o # de avaliações positivas e o tempo de jogo médio.\n",
    "\n",
    "![Prints/Corr-PosRat-AvgTim](Prints/Corr-PosRat-AvgTim.png)\n",
    "\n",
    "____"
   ]
  },
  {
   "cell_type": "markdown",
   "metadata": {},
   "source": [
    "## Correlação entre o # de avaliações positivas e o tempo de jogo médio.\n",
    "\n",
    "![Prints/Corr-PosRat-AvgTim](Prints/Corr-PosRat-AvgTim.png)\n",
    "\n",
    "____"
   ]
  },
  {
   "cell_type": "markdown",
   "metadata": {},
   "source": [
    "## Correlação entre o # de avaliações positivas e o tempo de jogo médio.\n",
    "\n",
    "![Prints/Corr-PosRat-AvgTim](Prints/Corr-PosRat-AvgTim.png)\n",
    "\n",
    "____"
   ]
  },
  {
   "cell_type": "markdown",
   "metadata": {},
   "source": [
    "## Correlação entre o # de avaliações positivas e o tempo de jogo médio.\n",
    "\n",
    "![Prints/Corr-PosRat-AvgTim](Prints/Corr-PosRat-AvgTim.png)\n",
    "\n",
    "____"
   ]
  },
  {
   "cell_type": "markdown",
   "metadata": {},
   "source": [
    "## Correlação entre o # de avaliações positivas e o tempo de jogo médio.\n",
    "\n",
    "![Prints/Corr-PosRat-AvgTim](Prints/Corr-PosRat-AvgTim.png)\n",
    "\n",
    "____"
   ]
  },
  {
   "cell_type": "markdown",
   "metadata": {},
   "source": [
    "## Correlação entre o # de avaliações positivas e o tempo de jogo médio.\n",
    "\n",
    "![Prints/Corr-PosRat-AvgTim](Prints/Corr-PosRat-AvgTim.png)\n",
    "\n",
    "____"
   ]
  },
  {
   "cell_type": "markdown",
   "metadata": {},
   "source": [
    "## Correlação entre o # de avaliações positivas e o tempo de jogo médio.\n",
    "\n",
    "![Prints/Corr-PosRat-AvgTim](Prints/Corr-PosRat-AvgTim.png)\n",
    "\n",
    "____"
   ]
  },
  {
   "cell_type": "markdown",
   "metadata": {},
   "source": [
    "## Correlação entre o # de avaliações positivas e o tempo de jogo médio.\n",
    "\n",
    "![Prints/Corr-PosRat-AvgTim](Prints/Corr-PosRat-AvgTim.png)\n",
    "\n",
    "____"
   ]
  },
  {
   "cell_type": "markdown",
   "metadata": {},
   "source": [
    "## Correlação entre o # de avaliações positivas e o tempo de jogo médio.\n",
    "\n",
    "![Prints/Corr-PosRat-AvgTim](Prints/Corr-PosRat-AvgTim.png)\n",
    "\n",
    "____"
   ]
  },
  {
   "cell_type": "markdown",
   "metadata": {},
   "source": [
    "## Correlação entre o # de avaliações positivas e o tempo de jogo médio.\n",
    "\n",
    "![Prints/Corr-PosRat-AvgTim](Prints/Corr-PosRat-AvgTim.png)\n",
    "\n",
    "____"
   ]
  },
  {
   "cell_type": "markdown",
   "metadata": {},
   "source": [
    "## Correlação entre o # de avaliações positivas e o tempo de jogo médio.\n",
    "\n",
    "![Prints/Corr-PosRat-AvgTim](Prints/Corr-PosRat-AvgTim.png)\n",
    "\n",
    "____"
   ]
  },
  {
   "cell_type": "markdown",
   "metadata": {},
   "source": [
    "## Correlação entre o # de avaliações positivas e o tempo de jogo médio.\n",
    "\n",
    "![Prints/Corr-PosRat-AvgTim](Prints/Corr-PosRat-AvgTim.png)\n",
    "\n",
    "____"
   ]
  },
  {
   "cell_type": "markdown",
   "metadata": {},
   "source": [
    "## Correlação entre o # de avaliações positivas e o tempo de jogo médio.\n",
    "\n",
    "![Prints/Corr-PosRat-AvgTim](Prints/Corr-PosRat-AvgTim.png)\n",
    "\n",
    "____"
   ]
  },
  {
   "cell_type": "markdown",
   "metadata": {},
   "source": [
    "## Correlação entre o # de avaliações positivas e o tempo de jogo médio.\n",
    "\n",
    "![Prints/Corr-PosRat-AvgTim](Prints/Corr-PosRat-AvgTim.png)\n",
    "\n",
    "____"
   ]
  },
  {
   "cell_type": "markdown",
   "metadata": {},
   "source": [
    "## Correlação entre o # de avaliações positivas e o tempo de jogo médio.\n",
    "\n",
    "![Prints/Corr-PosRat-AvgTim](Prints/Corr-PosRat-AvgTim.png)\n",
    "\n",
    "____"
   ]
  },
  {
   "cell_type": "markdown",
   "metadata": {},
   "source": [
    "## Correlação entre o # de avaliações positivas e o tempo de jogo médio.\n",
    "\n",
    "![Prints/Corr-PosRat-AvgTim](Prints/Corr-PosRat-AvgTim.png)\n",
    "\n",
    "____"
   ]
  },
  {
   "cell_type": "markdown",
   "metadata": {},
   "source": [
    "## Correlação entre o # de avaliações positivas e o tempo de jogo médio.\n",
    "\n",
    "![Prints/Corr-PosRat-AvgTim](Prints/Corr-PosRat-AvgTim.png)\n",
    "\n",
    "____"
   ]
  },
  {
   "cell_type": "markdown",
   "metadata": {},
   "source": [
    "## Correlação entre o # de avaliações positivas e o tempo de jogo médio.\n",
    "\n",
    "![Prints/Corr-PosRat-AvgTim](Prints/Corr-PosRat-AvgTim.png)\n",
    "\n",
    "____"
   ]
  }
 ],
 "metadata": {
  "colab": {
   "name": "Relatorio.ipynb",
   "provenance": []
  },
  "kernelspec": {
   "display_name": "Python 3",
   "language": "python",
   "name": "python3"
  },
  "language_info": {
   "codemirror_mode": {
    "name": "ipython",
    "version": 3
   },
   "file_extension": ".py",
   "mimetype": "text/x-python",
   "name": "python",
   "nbconvert_exporter": "python",
   "pygments_lexer": "ipython3",
   "version": "3.8.5"
  }
 },
 "nbformat": 4,
 "nbformat_minor": 1
}